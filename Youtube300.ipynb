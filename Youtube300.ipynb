{
 "cells": [
  {
   "cell_type": "markdown",
   "id": "c65448ae",
   "metadata": {},
   "source": [
    "# Youtube Top 300 Analysis\n",
    "In this analysis, we are taking a look over the Top 300 Youtube channels. This data set, put together by Vishwanath Seshagiri,\n",
    "can be accessed [here](https://www.kaggle.com/datasets/iabdulw/top-300-youtube-channels?resource=download). It is a collection of the top 300 Youtube channels, ranked on total views, as well as related data such as start data, genre, number of videos, and subcribers. We will analyze these data points and see if there is any advice for smaller channels that can be determined.\n",
    "\n",
    "## Goals\n",
    "> Which genres are leading in views? \\\n",
    "> Which genres are leading in subscribers? \\\n",
    "> Is there a positive or negative correlation between subscribers and total views? \\\n",
    "> Is there a positive or negative correlation between start date and subscribers? \\\n",
    "> Is there a positive or negaive correlation between number of videos and total views?"
   ]
  },
  {
   "cell_type": "markdown",
   "id": "7b7f46f3",
   "metadata": {},
   "source": [
    "#### Import Necessary Packages"
   ]
  },
  {
   "cell_type": "code",
   "execution_count": 28,
   "id": "cd2d20eb",
   "metadata": {},
   "outputs": [],
   "source": [
    "import pandas as pd\n",
    "import matplotlib.pyplot as plt\n",
    "import numpy as np\n",
    "import seaborn as sns"
   ]
  },
  {
   "cell_type": "markdown",
   "id": "8ac6d271",
   "metadata": {},
   "source": [
    "#### Import Dataset and Review Contents"
   ]
  },
  {
   "cell_type": "code",
   "execution_count": 29,
   "id": "4d273bde",
   "metadata": {},
   "outputs": [
    {
     "data": {
      "text/html": [
       "<div>\n",
       "<style scoped>\n",
       "    .dataframe tbody tr th:only-of-type {\n",
       "        vertical-align: middle;\n",
       "    }\n",
       "\n",
       "    .dataframe tbody tr th {\n",
       "        vertical-align: top;\n",
       "    }\n",
       "\n",
       "    .dataframe thead th {\n",
       "        text-align: right;\n",
       "    }\n",
       "</style>\n",
       "<table border=\"1\" class=\"dataframe\">\n",
       "  <thead>\n",
       "    <tr style=\"text-align: right;\">\n",
       "      <th></th>\n",
       "      <th>Unnamed: 0</th>\n",
       "      <th>Rank</th>\n",
       "      <th>Channel_Name</th>\n",
       "      <th>Subscriber_Count</th>\n",
       "      <th>Video_Views</th>\n",
       "      <th>Video_Count</th>\n",
       "      <th>Genre</th>\n",
       "      <th>Channel_Started</th>\n",
       "    </tr>\n",
       "  </thead>\n",
       "  <tbody>\n",
       "    <tr>\n",
       "      <th>0</th>\n",
       "      <td>0</td>\n",
       "      <td>1</td>\n",
       "      <td>T-Series</td>\n",
       "      <td>237000000</td>\n",
       "      <td>216495600668</td>\n",
       "      <td>18831</td>\n",
       "      <td>Music</td>\n",
       "      <td>2006</td>\n",
       "    </tr>\n",
       "    <tr>\n",
       "      <th>1</th>\n",
       "      <td>1</td>\n",
       "      <td>2</td>\n",
       "      <td>Cocomelon - Nursery Rhymes</td>\n",
       "      <td>154000000</td>\n",
       "      <td>152638999634</td>\n",
       "      <td>861</td>\n",
       "      <td>Education</td>\n",
       "      <td>2006</td>\n",
       "    </tr>\n",
       "    <tr>\n",
       "      <th>2</th>\n",
       "      <td>2</td>\n",
       "      <td>3</td>\n",
       "      <td>SET India</td>\n",
       "      <td>152000000</td>\n",
       "      <td>140138068504</td>\n",
       "      <td>105649</td>\n",
       "      <td>Film &amp; Animation</td>\n",
       "      <td>2006</td>\n",
       "    </tr>\n",
       "    <tr>\n",
       "      <th>3</th>\n",
       "      <td>3</td>\n",
       "      <td>4</td>\n",
       "      <td>Sony SAB</td>\n",
       "      <td>77500000</td>\n",
       "      <td>92952274861</td>\n",
       "      <td>65028</td>\n",
       "      <td>Film &amp; Animation</td>\n",
       "      <td>2007</td>\n",
       "    </tr>\n",
       "    <tr>\n",
       "      <th>4</th>\n",
       "      <td>4</td>\n",
       "      <td>5</td>\n",
       "      <td>✿ Kids Diana Show</td>\n",
       "      <td>108000000</td>\n",
       "      <td>88452629066</td>\n",
       "      <td>1070</td>\n",
       "      <td>People &amp; Blogs</td>\n",
       "      <td>2015</td>\n",
       "    </tr>\n",
       "  </tbody>\n",
       "</table>\n",
       "</div>"
      ],
      "text/plain": [
       "   Unnamed: 0  Rank                Channel_Name  Subscriber_Count  \\\n",
       "0           0     1                    T-Series         237000000   \n",
       "1           1     2  Cocomelon - Nursery Rhymes         154000000   \n",
       "2           2     3                   SET India         152000000   \n",
       "3           3     4                    Sony SAB          77500000   \n",
       "4           4     5           ✿ Kids Diana Show         108000000   \n",
       "\n",
       "    Video_Views  Video_Count             Genre  Channel_Started  \n",
       "0  216495600668        18831             Music             2006  \n",
       "1  152638999634          861         Education             2006  \n",
       "2  140138068504       105649  Film & Animation             2006  \n",
       "3   92952274861        65028  Film & Animation             2007  \n",
       "4   88452629066         1070    People & Blogs             2015  "
      ]
     },
     "execution_count": 29,
     "metadata": {},
     "output_type": "execute_result"
    }
   ],
   "source": [
    "youtube = pd.read_csv(\"top-300-youtube-channels.csv\")\n",
    "youtube.head()"
   ]
  },
  {
   "cell_type": "markdown",
   "id": "73a62be6",
   "metadata": {},
   "source": [
    "#### Check and Clean Data\n",
    "We will check for any missing values, as well as check for impossible outliers in numeric columns.\n",
    "\n",
    "First we will check for any missing values within the dataset that may skew our findings."
   ]
  },
  {
   "cell_type": "code",
   "execution_count": 30,
   "id": "65e2f52c",
   "metadata": {},
   "outputs": [
    {
     "data": {
      "text/plain": [
       "Unnamed: 0  Rank   Channel_Name  Subscriber_Count  Video_Views  Video_Count  Genre  Channel_Started\n",
       "False       False  False         False             False        False        False  False              296\n",
       "dtype: int64"
      ]
     },
     "execution_count": 30,
     "metadata": {},
     "output_type": "execute_result"
    }
   ],
   "source": [
    "youtube_na = youtube.isna()\n",
    "youtube_na.value_counts()"
   ]
  },
  {
   "cell_type": "markdown",
   "id": "bf68cc8a",
   "metadata": {},
   "source": [
    "Now we will check for impossible outliers."
   ]
  },
  {
   "cell_type": "code",
   "execution_count": 31,
   "id": "303da5d9",
   "metadata": {},
   "outputs": [
    {
     "data": {
      "text/html": [
       "<div>\n",
       "<style scoped>\n",
       "    .dataframe tbody tr th:only-of-type {\n",
       "        vertical-align: middle;\n",
       "    }\n",
       "\n",
       "    .dataframe tbody tr th {\n",
       "        vertical-align: top;\n",
       "    }\n",
       "\n",
       "    .dataframe thead th {\n",
       "        text-align: right;\n",
       "    }\n",
       "</style>\n",
       "<table border=\"1\" class=\"dataframe\">\n",
       "  <thead>\n",
       "    <tr style=\"text-align: right;\">\n",
       "      <th></th>\n",
       "      <th>Subscriber_Count</th>\n",
       "      <th>Video_Views</th>\n",
       "      <th>Video_Count</th>\n",
       "      <th>Channel_Started</th>\n",
       "    </tr>\n",
       "  </thead>\n",
       "  <tbody>\n",
       "    <tr>\n",
       "      <th>count</th>\n",
       "      <td>2.960000e+02</td>\n",
       "      <td>2.960000e+02</td>\n",
       "      <td>296.000000</td>\n",
       "      <td>296.000000</td>\n",
       "    </tr>\n",
       "    <tr>\n",
       "      <th>mean</th>\n",
       "      <td>3.159155e+07</td>\n",
       "      <td>2.199628e+10</td>\n",
       "      <td>19174.331081</td>\n",
       "      <td>2011.368243</td>\n",
       "    </tr>\n",
       "    <tr>\n",
       "      <th>std</th>\n",
       "      <td>2.471406e+07</td>\n",
       "      <td>1.942543e+10</td>\n",
       "      <td>46072.700205</td>\n",
       "      <td>3.997822</td>\n",
       "    </tr>\n",
       "    <tr>\n",
       "      <th>min</th>\n",
       "      <td>3.720000e+06</td>\n",
       "      <td>1.138766e+10</td>\n",
       "      <td>15.000000</td>\n",
       "      <td>2005.000000</td>\n",
       "    </tr>\n",
       "    <tr>\n",
       "      <th>25%</th>\n",
       "      <td>1.737500e+07</td>\n",
       "      <td>1.357843e+10</td>\n",
       "      <td>386.250000</td>\n",
       "      <td>2008.000000</td>\n",
       "    </tr>\n",
       "    <tr>\n",
       "      <th>50%</th>\n",
       "      <td>2.570000e+07</td>\n",
       "      <td>1.633676e+10</td>\n",
       "      <td>1984.500000</td>\n",
       "      <td>2011.000000</td>\n",
       "    </tr>\n",
       "    <tr>\n",
       "      <th>75%</th>\n",
       "      <td>3.675000e+07</td>\n",
       "      <td>2.284494e+10</td>\n",
       "      <td>8558.000000</td>\n",
       "      <td>2014.000000</td>\n",
       "    </tr>\n",
       "    <tr>\n",
       "      <th>max</th>\n",
       "      <td>2.370000e+08</td>\n",
       "      <td>2.164956e+11</td>\n",
       "      <td>345736.000000</td>\n",
       "      <td>2021.000000</td>\n",
       "    </tr>\n",
       "  </tbody>\n",
       "</table>\n",
       "</div>"
      ],
      "text/plain": [
       "       Subscriber_Count   Video_Views    Video_Count  Channel_Started\n",
       "count      2.960000e+02  2.960000e+02     296.000000       296.000000\n",
       "mean       3.159155e+07  2.199628e+10   19174.331081      2011.368243\n",
       "std        2.471406e+07  1.942543e+10   46072.700205         3.997822\n",
       "min        3.720000e+06  1.138766e+10      15.000000      2005.000000\n",
       "25%        1.737500e+07  1.357843e+10     386.250000      2008.000000\n",
       "50%        2.570000e+07  1.633676e+10    1984.500000      2011.000000\n",
       "75%        3.675000e+07  2.284494e+10    8558.000000      2014.000000\n",
       "max        2.370000e+08  2.164956e+11  345736.000000      2021.000000"
      ]
     },
     "execution_count": 31,
     "metadata": {},
     "output_type": "execute_result"
    }
   ],
   "source": [
    "youtube[[\"Subscriber_Count\", \"Video_Views\", \"Video_Count\", \"Channel_Started\"]].describe()"
   ]
  },
  {
   "cell_type": "markdown",
   "id": "6028a216",
   "metadata": {},
   "source": [
    "After analyzing the min and max for each numeric column, most check out. One sticks out that we should take a closer look at. The maxiumum for Video Count is over 300k, which puts them at an minimum average of 53 videos per day over the past 18 years. \n",
    "\n",
    "Also, while looking for missing values, we came across only 296 rows in a supposed 300 dataset. Lets look at that closer as well."
   ]
  },
  {
   "cell_type": "code",
   "execution_count": 32,
   "id": "c7650500",
   "metadata": {},
   "outputs": [
    {
     "data": {
      "text/html": [
       "<div>\n",
       "<style scoped>\n",
       "    .dataframe tbody tr th:only-of-type {\n",
       "        vertical-align: middle;\n",
       "    }\n",
       "\n",
       "    .dataframe tbody tr th {\n",
       "        vertical-align: top;\n",
       "    }\n",
       "\n",
       "    .dataframe thead th {\n",
       "        text-align: right;\n",
       "    }\n",
       "</style>\n",
       "<table border=\"1\" class=\"dataframe\">\n",
       "  <thead>\n",
       "    <tr style=\"text-align: right;\">\n",
       "      <th></th>\n",
       "      <th>Unnamed: 0</th>\n",
       "      <th>Rank</th>\n",
       "      <th>Channel_Name</th>\n",
       "      <th>Subscriber_Count</th>\n",
       "      <th>Video_Views</th>\n",
       "      <th>Video_Count</th>\n",
       "      <th>Genre</th>\n",
       "      <th>Channel_Started</th>\n",
       "    </tr>\n",
       "  </thead>\n",
       "  <tbody>\n",
       "    <tr>\n",
       "      <th>295</th>\n",
       "      <td>299</td>\n",
       "      <td>300</td>\n",
       "      <td>GMA News</td>\n",
       "      <td>12900000</td>\n",
       "      <td>11387663843</td>\n",
       "      <td>345736</td>\n",
       "      <td>News &amp; Politics</td>\n",
       "      <td>2007</td>\n",
       "    </tr>\n",
       "  </tbody>\n",
       "</table>\n",
       "</div>"
      ],
      "text/plain": [
       "     Unnamed: 0  Rank Channel_Name  Subscriber_Count  Video_Views  \\\n",
       "295         299   300     GMA News          12900000  11387663843   \n",
       "\n",
       "     Video_Count            Genre  Channel_Started  \n",
       "295       345736  News & Politics             2007  "
      ]
     },
     "execution_count": 32,
     "metadata": {},
     "output_type": "execute_result"
    }
   ],
   "source": [
    "vid_max = youtube[\"Video_Count\"].max()\n",
    "youtube.loc[youtube[\"Video_Count\"] == vid_max]"
   ]
  },
  {
   "cell_type": "markdown",
   "id": "a454dee0",
   "metadata": {},
   "source": [
    "The video being a national news network, and the channel starting in 2007, makes the video count possible. After reviewing their youtube channel, it looks like many highlight videos of their shows are uploaded each day. This explains the high count.\n",
    "\n",
    "Lets take a look at the row problem now."
   ]
  },
  {
   "cell_type": "code",
   "execution_count": 33,
   "id": "5d26f76a",
   "metadata": {},
   "outputs": [
    {
     "data": {
      "text/html": [
       "<div>\n",
       "<style scoped>\n",
       "    .dataframe tbody tr th:only-of-type {\n",
       "        vertical-align: middle;\n",
       "    }\n",
       "\n",
       "    .dataframe tbody tr th {\n",
       "        vertical-align: top;\n",
       "    }\n",
       "\n",
       "    .dataframe thead th {\n",
       "        text-align: right;\n",
       "    }\n",
       "</style>\n",
       "<table border=\"1\" class=\"dataframe\">\n",
       "  <thead>\n",
       "    <tr style=\"text-align: right;\">\n",
       "      <th></th>\n",
       "      <th>Unnamed: 0</th>\n",
       "      <th>Rank</th>\n",
       "      <th>Channel_Name</th>\n",
       "      <th>Subscriber_Count</th>\n",
       "      <th>Video_Views</th>\n",
       "      <th>Video_Count</th>\n",
       "      <th>Genre</th>\n",
       "      <th>Channel_Started</th>\n",
       "    </tr>\n",
       "  </thead>\n",
       "  <tbody>\n",
       "    <tr>\n",
       "      <th>291</th>\n",
       "      <td>295</td>\n",
       "      <td>296</td>\n",
       "      <td>Jake Fellman</td>\n",
       "      <td>15000000</td>\n",
       "      <td>11618626248</td>\n",
       "      <td>440</td>\n",
       "      <td>Entertainment</td>\n",
       "      <td>2012</td>\n",
       "    </tr>\n",
       "    <tr>\n",
       "      <th>292</th>\n",
       "      <td>296</td>\n",
       "      <td>297</td>\n",
       "      <td>DisneyJuniorUK</td>\n",
       "      <td>11300000</td>\n",
       "      <td>11586962179</td>\n",
       "      <td>2789</td>\n",
       "      <td>Entertainment</td>\n",
       "      <td>2010</td>\n",
       "    </tr>\n",
       "    <tr>\n",
       "      <th>293</th>\n",
       "      <td>297</td>\n",
       "      <td>298</td>\n",
       "      <td>JTBC Entertainment</td>\n",
       "      <td>7580000</td>\n",
       "      <td>11512332695</td>\n",
       "      <td>76838</td>\n",
       "      <td>Entertainment</td>\n",
       "      <td>2012</td>\n",
       "    </tr>\n",
       "    <tr>\n",
       "      <th>294</th>\n",
       "      <td>298</td>\n",
       "      <td>299</td>\n",
       "      <td>Mnet TV</td>\n",
       "      <td>9040000</td>\n",
       "      <td>11442069884</td>\n",
       "      <td>21617</td>\n",
       "      <td>Entertainment</td>\n",
       "      <td>2013</td>\n",
       "    </tr>\n",
       "    <tr>\n",
       "      <th>295</th>\n",
       "      <td>299</td>\n",
       "      <td>300</td>\n",
       "      <td>GMA News</td>\n",
       "      <td>12900000</td>\n",
       "      <td>11387663843</td>\n",
       "      <td>345736</td>\n",
       "      <td>News &amp; Politics</td>\n",
       "      <td>2007</td>\n",
       "    </tr>\n",
       "  </tbody>\n",
       "</table>\n",
       "</div>"
      ],
      "text/plain": [
       "     Unnamed: 0  Rank        Channel_Name  Subscriber_Count  Video_Views  \\\n",
       "291         295   296        Jake Fellman          15000000  11618626248   \n",
       "292         296   297      DisneyJuniorUK          11300000  11586962179   \n",
       "293         297   298  JTBC Entertainment           7580000  11512332695   \n",
       "294         298   299             Mnet TV           9040000  11442069884   \n",
       "295         299   300            GMA News          12900000  11387663843   \n",
       "\n",
       "     Video_Count            Genre  Channel_Started  \n",
       "291          440    Entertainment             2012  \n",
       "292         2789    Entertainment             2010  \n",
       "293        76838    Entertainment             2012  \n",
       "294        21617    Entertainment             2013  \n",
       "295       345736  News & Politics             2007  "
      ]
     },
     "execution_count": 33,
     "metadata": {},
     "output_type": "execute_result"
    }
   ],
   "source": [
    "youtube.tail()"
   ]
  },
  {
   "cell_type": "code",
   "execution_count": 34,
   "id": "f6fce6e0",
   "metadata": {},
   "outputs": [
    {
     "data": {
      "text/html": [
       "<div>\n",
       "<style scoped>\n",
       "    .dataframe tbody tr th:only-of-type {\n",
       "        vertical-align: middle;\n",
       "    }\n",
       "\n",
       "    .dataframe tbody tr th {\n",
       "        vertical-align: top;\n",
       "    }\n",
       "\n",
       "    .dataframe thead th {\n",
       "        text-align: right;\n",
       "    }\n",
       "</style>\n",
       "<table border=\"1\" class=\"dataframe\">\n",
       "  <thead>\n",
       "    <tr style=\"text-align: right;\">\n",
       "      <th></th>\n",
       "      <th>Unnamed: 0</th>\n",
       "      <th>Rank</th>\n",
       "      <th>Channel_Name</th>\n",
       "      <th>Subscriber_Count</th>\n",
       "      <th>Video_Views</th>\n",
       "      <th>Video_Count</th>\n",
       "      <th>Genre</th>\n",
       "      <th>Channel_Started</th>\n",
       "    </tr>\n",
       "  </thead>\n",
       "  <tbody>\n",
       "    <tr>\n",
       "      <th>0</th>\n",
       "      <td>0</td>\n",
       "      <td>1</td>\n",
       "      <td>T-Series</td>\n",
       "      <td>237000000</td>\n",
       "      <td>216495600668</td>\n",
       "      <td>18831</td>\n",
       "      <td>Music</td>\n",
       "      <td>2006</td>\n",
       "    </tr>\n",
       "    <tr>\n",
       "      <th>1</th>\n",
       "      <td>1</td>\n",
       "      <td>2</td>\n",
       "      <td>Cocomelon - Nursery Rhymes</td>\n",
       "      <td>154000000</td>\n",
       "      <td>152638999634</td>\n",
       "      <td>861</td>\n",
       "      <td>Education</td>\n",
       "      <td>2006</td>\n",
       "    </tr>\n",
       "    <tr>\n",
       "      <th>2</th>\n",
       "      <td>2</td>\n",
       "      <td>3</td>\n",
       "      <td>SET India</td>\n",
       "      <td>152000000</td>\n",
       "      <td>140138068504</td>\n",
       "      <td>105649</td>\n",
       "      <td>Film &amp; Animation</td>\n",
       "      <td>2006</td>\n",
       "    </tr>\n",
       "    <tr>\n",
       "      <th>3</th>\n",
       "      <td>3</td>\n",
       "      <td>4</td>\n",
       "      <td>Sony SAB</td>\n",
       "      <td>77500000</td>\n",
       "      <td>92952274861</td>\n",
       "      <td>65028</td>\n",
       "      <td>Film &amp; Animation</td>\n",
       "      <td>2007</td>\n",
       "    </tr>\n",
       "    <tr>\n",
       "      <th>4</th>\n",
       "      <td>4</td>\n",
       "      <td>5</td>\n",
       "      <td>✿ Kids Diana Show</td>\n",
       "      <td>108000000</td>\n",
       "      <td>88452629066</td>\n",
       "      <td>1070</td>\n",
       "      <td>People &amp; Blogs</td>\n",
       "      <td>2015</td>\n",
       "    </tr>\n",
       "  </tbody>\n",
       "</table>\n",
       "</div>"
      ],
      "text/plain": [
       "   Unnamed: 0  Rank                Channel_Name  Subscriber_Count  \\\n",
       "0           0     1                    T-Series         237000000   \n",
       "1           1     2  Cocomelon - Nursery Rhymes         154000000   \n",
       "2           2     3                   SET India         152000000   \n",
       "3           3     4                    Sony SAB          77500000   \n",
       "4           4     5           ✿ Kids Diana Show         108000000   \n",
       "\n",
       "    Video_Views  Video_Count             Genre  Channel_Started  \n",
       "0  216495600668        18831             Music             2006  \n",
       "1  152638999634          861         Education             2006  \n",
       "2  140138068504       105649  Film & Animation             2006  \n",
       "3   92952274861        65028  Film & Animation             2007  \n",
       "4   88452629066         1070    People & Blogs             2015  "
      ]
     },
     "execution_count": 34,
     "metadata": {},
     "output_type": "execute_result"
    }
   ],
   "source": [
    "youtube.head()"
   ]
  },
  {
   "cell_type": "markdown",
   "id": "26088656",
   "metadata": {},
   "source": [
    "The ranks are offset from their index value by 1. Somewhere in the data, this stops being true."
   ]
  },
  {
   "cell_type": "code",
   "execution_count": 35,
   "id": "6f903710",
   "metadata": {},
   "outputs": [
    {
     "data": {
      "text/html": [
       "<div>\n",
       "<style scoped>\n",
       "    .dataframe tbody tr th:only-of-type {\n",
       "        vertical-align: middle;\n",
       "    }\n",
       "\n",
       "    .dataframe tbody tr th {\n",
       "        vertical-align: top;\n",
       "    }\n",
       "\n",
       "    .dataframe thead th {\n",
       "        text-align: right;\n",
       "    }\n",
       "</style>\n",
       "<table border=\"1\" class=\"dataframe\">\n",
       "  <thead>\n",
       "    <tr style=\"text-align: right;\">\n",
       "      <th></th>\n",
       "      <th>Unnamed: 0</th>\n",
       "      <th>Rank</th>\n",
       "      <th>Channel_Name</th>\n",
       "      <th>Subscriber_Count</th>\n",
       "      <th>Video_Views</th>\n",
       "      <th>Video_Count</th>\n",
       "      <th>Genre</th>\n",
       "      <th>Channel_Started</th>\n",
       "    </tr>\n",
       "  </thead>\n",
       "  <tbody>\n",
       "    <tr>\n",
       "      <th>36</th>\n",
       "      <td>37</td>\n",
       "      <td>38</td>\n",
       "      <td>PewDiePie</td>\n",
       "      <td>111000000</td>\n",
       "      <td>28920114696</td>\n",
       "      <td>4700</td>\n",
       "      <td>Gaming</td>\n",
       "      <td>2010</td>\n",
       "    </tr>\n",
       "    <tr>\n",
       "      <th>37</th>\n",
       "      <td>38</td>\n",
       "      <td>39</td>\n",
       "      <td>Bad Bunny</td>\n",
       "      <td>45300000</td>\n",
       "      <td>28697537555</td>\n",
       "      <td>128</td>\n",
       "      <td>Music</td>\n",
       "      <td>2014</td>\n",
       "    </tr>\n",
       "    <tr>\n",
       "      <th>38</th>\n",
       "      <td>39</td>\n",
       "      <td>40</td>\n",
       "      <td>GMANetwork</td>\n",
       "      <td>30100000</td>\n",
       "      <td>28240012927</td>\n",
       "      <td>128766</td>\n",
       "      <td>Entertainment</td>\n",
       "      <td>2006</td>\n",
       "    </tr>\n",
       "    <tr>\n",
       "      <th>39</th>\n",
       "      <td>40</td>\n",
       "      <td>41</td>\n",
       "      <td>Infobells - Hindi</td>\n",
       "      <td>49200000</td>\n",
       "      <td>28093078858</td>\n",
       "      <td>526</td>\n",
       "      <td>Education</td>\n",
       "      <td>2014</td>\n",
       "    </tr>\n",
       "    <tr>\n",
       "      <th>40</th>\n",
       "      <td>41</td>\n",
       "      <td>42</td>\n",
       "      <td>Taylor Swift</td>\n",
       "      <td>51000000</td>\n",
       "      <td>28081584959</td>\n",
       "      <td>206</td>\n",
       "      <td>Music</td>\n",
       "      <td>2006</td>\n",
       "    </tr>\n",
       "  </tbody>\n",
       "</table>\n",
       "</div>"
      ],
      "text/plain": [
       "    Unnamed: 0  Rank       Channel_Name  Subscriber_Count  Video_Views  \\\n",
       "36          37    38          PewDiePie         111000000  28920114696   \n",
       "37          38    39          Bad Bunny          45300000  28697537555   \n",
       "38          39    40         GMANetwork          30100000  28240012927   \n",
       "39          40    41  Infobells - Hindi          49200000  28093078858   \n",
       "40          41    42       Taylor Swift          51000000  28081584959   \n",
       "\n",
       "    Video_Count          Genre  Channel_Started  \n",
       "36         4700         Gaming             2010  \n",
       "37          128          Music             2014  \n",
       "38       128766  Entertainment             2006  \n",
       "39          526      Education             2014  \n",
       "40          206          Music             2006  "
      ]
     },
     "execution_count": 35,
     "metadata": {},
     "output_type": "execute_result"
    }
   ],
   "source": [
    "offset_errors = youtube[youtube[\"Rank\"] != (youtube.index + 1)]\n",
    "offset_errors.head()"
   ]
  },
  {
   "cell_type": "code",
   "execution_count": 36,
   "id": "04abafc8",
   "metadata": {},
   "outputs": [
    {
     "data": {
      "text/html": [
       "<div>\n",
       "<style scoped>\n",
       "    .dataframe tbody tr th:only-of-type {\n",
       "        vertical-align: middle;\n",
       "    }\n",
       "\n",
       "    .dataframe tbody tr th {\n",
       "        vertical-align: top;\n",
       "    }\n",
       "\n",
       "    .dataframe thead th {\n",
       "        text-align: right;\n",
       "    }\n",
       "</style>\n",
       "<table border=\"1\" class=\"dataframe\">\n",
       "  <thead>\n",
       "    <tr style=\"text-align: right;\">\n",
       "      <th></th>\n",
       "      <th>Unnamed: 0</th>\n",
       "      <th>Rank</th>\n",
       "      <th>Channel_Name</th>\n",
       "      <th>Subscriber_Count</th>\n",
       "      <th>Video_Views</th>\n",
       "      <th>Video_Count</th>\n",
       "      <th>Genre</th>\n",
       "      <th>Channel_Started</th>\n",
       "    </tr>\n",
       "  </thead>\n",
       "  <tbody>\n",
       "    <tr>\n",
       "      <th>90</th>\n",
       "      <td>91</td>\n",
       "      <td>92</td>\n",
       "      <td>etvteluguindia</td>\n",
       "      <td>18700000</td>\n",
       "      <td>21665592262</td>\n",
       "      <td>120122</td>\n",
       "      <td>Entertainment</td>\n",
       "      <td>2010</td>\n",
       "    </tr>\n",
       "    <tr>\n",
       "      <th>91</th>\n",
       "      <td>92</td>\n",
       "      <td>93</td>\n",
       "      <td>LUCCAS NETO - LUCCAS TOON</td>\n",
       "      <td>38800000</td>\n",
       "      <td>21619683879</td>\n",
       "      <td>2067</td>\n",
       "      <td>People &amp; Blogs</td>\n",
       "      <td>2014</td>\n",
       "    </tr>\n",
       "    <tr>\n",
       "      <th>92</th>\n",
       "      <td>93</td>\n",
       "      <td>94</td>\n",
       "      <td>LeoNata Family</td>\n",
       "      <td>16200000</td>\n",
       "      <td>21562386713</td>\n",
       "      <td>1871</td>\n",
       "      <td>People &amp; Blogs</td>\n",
       "      <td>2021</td>\n",
       "    </tr>\n",
       "    <tr>\n",
       "      <th>93</th>\n",
       "      <td>94</td>\n",
       "      <td>95</td>\n",
       "      <td>The Weeknd</td>\n",
       "      <td>31100000</td>\n",
       "      <td>21532436284</td>\n",
       "      <td>131</td>\n",
       "      <td>Music</td>\n",
       "      <td>2011</td>\n",
       "    </tr>\n",
       "    <tr>\n",
       "      <th>94</th>\n",
       "      <td>95</td>\n",
       "      <td>96</td>\n",
       "      <td>Rihanna</td>\n",
       "      <td>41200000</td>\n",
       "      <td>21484482902</td>\n",
       "      <td>82</td>\n",
       "      <td>Entertainment</td>\n",
       "      <td>2005</td>\n",
       "    </tr>\n",
       "    <tr>\n",
       "      <th>95</th>\n",
       "      <td>97</td>\n",
       "      <td>98</td>\n",
       "      <td>Bollywood Classics</td>\n",
       "      <td>33300000</td>\n",
       "      <td>20890501469</td>\n",
       "      <td>1970</td>\n",
       "      <td>Music</td>\n",
       "      <td>2012</td>\n",
       "    </tr>\n",
       "    <tr>\n",
       "      <th>96</th>\n",
       "      <td>98</td>\n",
       "      <td>99</td>\n",
       "      <td>HUM TV</td>\n",
       "      <td>25400000</td>\n",
       "      <td>20838737685</td>\n",
       "      <td>89867</td>\n",
       "      <td>Entertainment</td>\n",
       "      <td>2011</td>\n",
       "    </tr>\n",
       "    <tr>\n",
       "      <th>97</th>\n",
       "      <td>99</td>\n",
       "      <td>100</td>\n",
       "      <td>Spinnin' Records</td>\n",
       "      <td>29900000</td>\n",
       "      <td>20780114029</td>\n",
       "      <td>11110</td>\n",
       "      <td>Music</td>\n",
       "      <td>2007</td>\n",
       "    </tr>\n",
       "    <tr>\n",
       "      <th>98</th>\n",
       "      <td>100</td>\n",
       "      <td>101</td>\n",
       "      <td>A4</td>\n",
       "      <td>44400000</td>\n",
       "      <td>20710970132</td>\n",
       "      <td>722</td>\n",
       "      <td>Gaming</td>\n",
       "      <td>2014</td>\n",
       "    </tr>\n",
       "    <tr>\n",
       "      <th>99</th>\n",
       "      <td>101</td>\n",
       "      <td>102</td>\n",
       "      <td>Inside Edition</td>\n",
       "      <td>11500000</td>\n",
       "      <td>20650907165</td>\n",
       "      <td>29223</td>\n",
       "      <td>News &amp; Politics</td>\n",
       "      <td>2012</td>\n",
       "    </tr>\n",
       "  </tbody>\n",
       "</table>\n",
       "</div>"
      ],
      "text/plain": [
       "    Unnamed: 0  Rank               Channel_Name  Subscriber_Count  \\\n",
       "90          91    92             etvteluguindia          18700000   \n",
       "91          92    93  LUCCAS NETO - LUCCAS TOON          38800000   \n",
       "92          93    94             LeoNata Family          16200000   \n",
       "93          94    95                 The Weeknd          31100000   \n",
       "94          95    96                    Rihanna          41200000   \n",
       "95          97    98         Bollywood Classics          33300000   \n",
       "96          98    99                     HUM TV          25400000   \n",
       "97          99   100           Spinnin' Records          29900000   \n",
       "98         100   101                         A4          44400000   \n",
       "99         101   102             Inside Edition          11500000   \n",
       "\n",
       "    Video_Views  Video_Count            Genre  Channel_Started  \n",
       "90  21665592262       120122    Entertainment             2010  \n",
       "91  21619683879         2067   People & Blogs             2014  \n",
       "92  21562386713         1871   People & Blogs             2021  \n",
       "93  21532436284          131            Music             2011  \n",
       "94  21484482902           82    Entertainment             2005  \n",
       "95  20890501469         1970            Music             2012  \n",
       "96  20838737685        89867    Entertainment             2011  \n",
       "97  20780114029        11110            Music             2007  \n",
       "98  20710970132          722           Gaming             2014  \n",
       "99  20650907165        29223  News & Politics             2012  "
      ]
     },
     "execution_count": 36,
     "metadata": {},
     "output_type": "execute_result"
    }
   ],
   "source": [
    "youtube.iloc[90:100]"
   ]
  },
  {
   "cell_type": "code",
   "execution_count": 37,
   "id": "20747b26",
   "metadata": {},
   "outputs": [
    {
     "data": {
      "text/html": [
       "<div>\n",
       "<style scoped>\n",
       "    .dataframe tbody tr th:only-of-type {\n",
       "        vertical-align: middle;\n",
       "    }\n",
       "\n",
       "    .dataframe tbody tr th {\n",
       "        vertical-align: top;\n",
       "    }\n",
       "\n",
       "    .dataframe thead th {\n",
       "        text-align: right;\n",
       "    }\n",
       "</style>\n",
       "<table border=\"1\" class=\"dataframe\">\n",
       "  <thead>\n",
       "    <tr style=\"text-align: right;\">\n",
       "      <th></th>\n",
       "      <th>Unnamed: 0</th>\n",
       "      <th>Rank</th>\n",
       "      <th>Channel_Name</th>\n",
       "      <th>Subscriber_Count</th>\n",
       "      <th>Video_Views</th>\n",
       "      <th>Video_Count</th>\n",
       "      <th>Genre</th>\n",
       "      <th>Channel_Started</th>\n",
       "    </tr>\n",
       "  </thead>\n",
       "  <tbody>\n",
       "    <tr>\n",
       "      <th>290</th>\n",
       "      <td>294</td>\n",
       "      <td>295</td>\n",
       "      <td>eltrece</td>\n",
       "      <td>12100000</td>\n",
       "      <td>11709869278</td>\n",
       "      <td>159305</td>\n",
       "      <td>Entertainment</td>\n",
       "      <td>2014</td>\n",
       "    </tr>\n",
       "    <tr>\n",
       "      <th>291</th>\n",
       "      <td>295</td>\n",
       "      <td>296</td>\n",
       "      <td>Jake Fellman</td>\n",
       "      <td>15000000</td>\n",
       "      <td>11618626248</td>\n",
       "      <td>440</td>\n",
       "      <td>Entertainment</td>\n",
       "      <td>2012</td>\n",
       "    </tr>\n",
       "    <tr>\n",
       "      <th>292</th>\n",
       "      <td>296</td>\n",
       "      <td>297</td>\n",
       "      <td>DisneyJuniorUK</td>\n",
       "      <td>11300000</td>\n",
       "      <td>11586962179</td>\n",
       "      <td>2789</td>\n",
       "      <td>Entertainment</td>\n",
       "      <td>2010</td>\n",
       "    </tr>\n",
       "    <tr>\n",
       "      <th>293</th>\n",
       "      <td>297</td>\n",
       "      <td>298</td>\n",
       "      <td>JTBC Entertainment</td>\n",
       "      <td>7580000</td>\n",
       "      <td>11512332695</td>\n",
       "      <td>76838</td>\n",
       "      <td>Entertainment</td>\n",
       "      <td>2012</td>\n",
       "    </tr>\n",
       "    <tr>\n",
       "      <th>294</th>\n",
       "      <td>298</td>\n",
       "      <td>299</td>\n",
       "      <td>Mnet TV</td>\n",
       "      <td>9040000</td>\n",
       "      <td>11442069884</td>\n",
       "      <td>21617</td>\n",
       "      <td>Entertainment</td>\n",
       "      <td>2013</td>\n",
       "    </tr>\n",
       "    <tr>\n",
       "      <th>295</th>\n",
       "      <td>299</td>\n",
       "      <td>300</td>\n",
       "      <td>GMA News</td>\n",
       "      <td>12900000</td>\n",
       "      <td>11387663843</td>\n",
       "      <td>345736</td>\n",
       "      <td>News &amp; Politics</td>\n",
       "      <td>2007</td>\n",
       "    </tr>\n",
       "  </tbody>\n",
       "</table>\n",
       "</div>"
      ],
      "text/plain": [
       "     Unnamed: 0  Rank        Channel_Name  Subscriber_Count  Video_Views  \\\n",
       "290         294   295             eltrece          12100000  11709869278   \n",
       "291         295   296        Jake Fellman          15000000  11618626248   \n",
       "292         296   297      DisneyJuniorUK          11300000  11586962179   \n",
       "293         297   298  JTBC Entertainment           7580000  11512332695   \n",
       "294         298   299             Mnet TV           9040000  11442069884   \n",
       "295         299   300            GMA News          12900000  11387663843   \n",
       "\n",
       "     Video_Count            Genre  Channel_Started  \n",
       "290       159305    Entertainment             2014  \n",
       "291          440    Entertainment             2012  \n",
       "292         2789    Entertainment             2010  \n",
       "293        76838    Entertainment             2012  \n",
       "294        21617    Entertainment             2013  \n",
       "295       345736  News & Politics             2007  "
      ]
     },
     "execution_count": 37,
     "metadata": {},
     "output_type": "execute_result"
    }
   ],
   "source": [
    "youtube.iloc[290:300]"
   ]
  },
  {
   "cell_type": "markdown",
   "id": "48affb5f",
   "metadata": {},
   "source": [
    "The data has skips in rank for no apparent reason. Perhaps, when the data was reorganized from the original set collected from the Youtube API, rows with NaNs were completely omitted. With the only 4 rows being omitted, this falls within the acceptable threshold of 5% dropped values. We will continue with the analysis now that the data has been cleaned and checked."
   ]
  },
  {
   "cell_type": "markdown",
   "id": "bf801b93",
   "metadata": {},
   "source": [
    "## Which Genres are leading in views?"
   ]
  },
  {
   "cell_type": "code",
   "execution_count": 38,
   "id": "ed199d7a",
   "metadata": {
    "scrolled": true
   },
   "outputs": [
    {
     "data": {
      "text/plain": [
       "Genre\n",
       "Music               2424786010175\n",
       "Entertainment       1413577129943\n",
       "Film & Animation     730538279845\n",
       "People & Blogs       638081119552\n",
       "Education            488360795776\n",
       "Gaming               308455890573\n",
       "Comedy               183583656216\n",
       "News & Politics      166941819185\n",
       "Sports               114738579212\n",
       "Howto & Style         25251693106\n",
       "Pets & Animals        16582763026\n",
       "Name: Video_Views, dtype: int64"
      ]
     },
     "execution_count": 38,
     "metadata": {},
     "output_type": "execute_result"
    }
   ],
   "source": [
    "genre_views = youtube.groupby(\"Genre\")[\"Video_Views\"].sum()\n",
    "genre_views = genre_views.sort_values(ascending=False)\n",
    "genre_views"
   ]
  },
  {
   "cell_type": "code",
   "execution_count": 39,
   "id": "c931249f",
   "metadata": {},
   "outputs": [
    {
     "data": {
      "text/plain": [
       "Text(0, 0.5, 'Total views (trillions)')"
      ]
     },
     "execution_count": 39,
     "metadata": {},
     "output_type": "execute_result"
    },
    {
     "data": {
      "image/png": "[encoded data removed]",
      "text/plain": [
       "<Figure size 432x288 with 1 Axes>"
      ]
     },
     "metadata": {
      "needs_background": "light"
     },
     "output_type": "display_data"
    }
   ],
   "source": [
    "genre_views_bar = sns.barplot(data=youtube, y=\"Video_Views\", x=\"Genre\", estimator=sum, ci=None, order=genre_views.index)\n",
    "genre_views_bar.tick_params(axis='x', rotation=90)\n",
    "genre_views_bar.set_title(\"Total views per genre\")\n",
    "genre_views_bar.set_ylabel(\"Total views (trillions)\")"
   ]
  },
  {
   "cell_type": "markdown",
   "id": "19086813",
   "metadata": {},
   "source": [
    "Here, we clearly see that the Music genre is approaching double the popularity of the next top genre, Entertainment. "
   ]
  },
  {
   "cell_type": "markdown",
   "id": "1b61076f",
   "metadata": {},
   "source": [
    "## Which Genre's are leading in Subscribers"
   ]
  },
  {
   "cell_type": "code",
   "execution_count": 40,
   "id": "76d1b00c",
   "metadata": {},
   "outputs": [
    {
     "data": {
      "text/plain": [
       "Genre\n",
       "Music               3583570000\n",
       "Entertainment       1958290000\n",
       "Film & Animation     995800000\n",
       "People & Blogs       857250000\n",
       "Education            629300000\n",
       "Gaming               580840000\n",
       "News & Politics      244700000\n",
       "Comedy               221730000\n",
       "Sports               181820000\n",
       "Howto & Style         78900000\n",
       "Pets & Animals        18900000\n",
       "Name: Subscriber_Count, dtype: int64"
      ]
     },
     "execution_count": 40,
     "metadata": {},
     "output_type": "execute_result"
    }
   ],
   "source": [
    "genre_subs = youtube.groupby(\"Genre\")[\"Subscriber_Count\"].sum()\n",
    "genre_subs = genre_subs.sort_values(ascending=False)\n",
    "genre_subs"
   ]
  },
  {
   "cell_type": "code",
   "execution_count": 41,
   "id": "198dac54",
   "metadata": {},
   "outputs": [
    {
     "data": {
      "image/png": "[encoded data removed]",
      "text/plain": [
       "<Figure size 432x288 with 1 Axes>"
      ]
     },
     "metadata": {
      "needs_background": "light"
     },
     "output_type": "display_data"
    }
   ],
   "source": [
    "genre_subs_bar = sns.barplot(data=youtube, y=\"Subscriber_Count\", x=\"Genre\", estimator=sum, ci=None, order=genre_views.index,\n",
    "                            )\n",
    "genre_subs_bar.set_title(\"Subscriber count per genre\")\n",
    "genre_subs_bar.set_ylabel(\"Subscriber count (billions)\")\n",
    "genre_subs_bar.tick_params(axis='x', rotation=90)"
   ]
  },
  {
   "cell_type": "markdown",
   "id": "dc77bf70",
   "metadata": {},
   "source": [
    "Here we see the same trends found in the view count analysis are repeated in subscriber count. This may give us some early insight on our next question to answer."
   ]
  },
  {
   "cell_type": "markdown",
   "id": "b871eceb",
   "metadata": {},
   "source": [
    "## Is there a positive or negative correlation between subscribers and total views?"
   ]
  },
  {
   "cell_type": "code",
   "execution_count": 42,
   "id": "3d520583",
   "metadata": {},
   "outputs": [
    {
     "name": "stdout",
     "output_type": "stream",
     "text": [
      "0.8222718333008882\n"
     ]
    }
   ],
   "source": [
    "sub_views_corr = youtube[\"Subscriber_Count\"].corr(youtube[\"Video_Views\"])\n",
    "print(sub_views_corr)"
   ]
  },
  {
   "cell_type": "markdown",
   "id": "6bd6573e",
   "metadata": {},
   "source": [
    "This correlation was calculated using the standar Pearson method. With a value of 0.82, we can deduct there is a strong correlation. Lets visualize this on a channel by channel basis using a scatterplot."
   ]
  },
  {
   "cell_type": "code",
   "execution_count": 43,
   "id": "776be519",
   "metadata": {},
   "outputs": [
    {
     "data": {
      "text/plain": [
       "<seaborn.axisgrid.FacetGrid at 0x1aa4d2e85b0>"
      ]
     },
     "execution_count": 43,
     "metadata": {},
     "output_type": "execute_result"
    },
    {
     "data": {
      "image/png": "[encoded data removed]",
      "text/plain": [
       "<Figure size 360x360 with 1 Axes>"
      ]
     },
     "metadata": {
      "needs_background": "light"
     },
     "output_type": "display_data"
    }
   ],
   "source": [
    "sns.lmplot(data=youtube, x=\"Subscriber_Count\", y=\"Video_Views\")\\\n",
    "          .set(title=\"Correlation between subscriber count and total views\",\n",
    "               ylabel=\"Total views (hundred billions)\",\n",
    "               xlabel=\"Subscriber count (hundred millions)\")"
   ]
  },
  {
   "cell_type": "markdown",
   "id": "27e9a01f",
   "metadata": {},
   "source": [
    "## Is there a positive or negative correlation between start date and subscribers?"
   ]
  },
  {
   "cell_type": "code",
   "execution_count": 44,
   "id": "e0ce2595",
   "metadata": {},
   "outputs": [
    {
     "name": "stdout",
     "output_type": "stream",
     "text": [
      "-0.12412168808320853\n"
     ]
    },
    {
     "data": {
      "text/plain": [
       "<seaborn.axisgrid.FacetGrid at 0x1aa4d2d28e0>"
      ]
     },
     "execution_count": 44,
     "metadata": {},
     "output_type": "execute_result"
    },
    {
     "data": {
      "image/png": "[encoded data removed]",
      "text/plain": [
       "<Figure size 360x360 with 1 Axes>"
      ]
     },
     "metadata": {
      "needs_background": "light"
     },
     "output_type": "display_data"
    }
   ],
   "source": [
    "sub_start_corr = youtube[\"Subscriber_Count\"].corr(youtube[\"Channel_Started\"])\n",
    "print(sub_start_corr)\n",
    "sns.lmplot(data=youtube, x=\"Channel_Started\", y=\"Subscriber_Count\")\\\n",
    "           .set(title=\"Correlation between channel start and subscriber count\",\n",
    "                ylabel=\"Subscriber count (hundred millions)\",\n",
    "                xlabel=\"Year channel started\")"
   ]
  },
  {
   "cell_type": "markdown",
   "id": "5326b065",
   "metadata": {},
   "source": [
    "Using the pearson method again, we see a weak correlation of -0.12 between start date and number of subscribers. It trends slightly negative. This would make sense as newer channels have had less time to gather subscribers, but the weak nature of it means this should not be considered when making decisions."
   ]
  },
  {
   "cell_type": "markdown",
   "id": "5fb47960",
   "metadata": {},
   "source": [
    "## Is there a positive or negaive correlation between number of videos and total views?"
   ]
  },
  {
   "cell_type": "code",
   "execution_count": 45,
   "id": "5685d7fb",
   "metadata": {},
   "outputs": [
    {
     "name": "stdout",
     "output_type": "stream",
     "text": [
      "0.05657543648557873\n"
     ]
    },
    {
     "data": {
      "text/plain": [
       "<seaborn.axisgrid.FacetGrid at 0x1aa4f03d2b0>"
      ]
     },
     "execution_count": 45,
     "metadata": {},
     "output_type": "execute_result"
    },
    {
     "data": {
      "image/png": "[encoded data removed]",
      "text/plain": [
       "<Figure size 360x360 with 1 Axes>"
      ]
     },
     "metadata": {
      "needs_background": "light"
     },
     "output_type": "display_data"
    }
   ],
   "source": [
    "videos_views_corr = youtube[\"Video_Count\"].corr(youtube[\"Video_Views\"])\n",
    "print(videos_views_corr)\n",
    "sns.lmplot(data=youtube, x=\"Video_Views\", y=\"Video_Count\")\\\n",
    "            .set(title=\"Correlation between video count and total views\",\n",
    "                 ylabel=\"Video count)\",\n",
    "                 xlabel=\"Total views (hundred billions)\")"
   ]
  },
  {
   "cell_type": "markdown",
   "id": "908741df",
   "metadata": {},
   "source": [
    "With a correlation of 0.05, there is little to no connection to video uploads and view counts."
   ]
  },
  {
   "cell_type": "markdown",
   "id": "0feecd26",
   "metadata": {},
   "source": [
    "# Conclusions\n",
    "\n",
    "After the analysis, there is a few things from our data we can offer as advice. These conclusions are limited to the top 300, and may not apply when the data is extended to the top 1,000, or even 10,000, channels. \n",
    "\n",
    "- First, the top thing to insure views is to increase your subscriber count. There is a strong correlation, showing that more subscribers do in-fact translate to more views. You should make an attempt within your videos to convert viewers into subscribers when you can.\n",
    "\n",
    "- Second, there is next to no correlation between start date and video count. New channels should keep this in mind before stretching themselves thin to create more videos. Time should be spent on quality, rather than quantity. It is also never too late to start. At any time, your channel could catch its viral \"big break\" within the algorithm and propel you past other channels that started years earlier."
   ]
  }
 ],
 "metadata": {
  "kernelspec": {
   "display_name": "Python 3 (ipykernel)",
   "language": "python",
   "name": "python3"
  },
  "language_info": {
   "codemirror_mode": {
    "name": "ipython",
    "version": 3
   },
   "file_extension": ".py",
   "mimetype": "text/x-python",
   "name": "python",
   "nbconvert_exporter": "python",
   "pygments_lexer": "ipython3",
   "version": "3.9.12"
  }
 },
 "nbformat": 4,
 "nbformat_minor": 5
}
